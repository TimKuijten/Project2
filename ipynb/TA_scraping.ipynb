{
 "cells": [
  {
   "cell_type": "code",
   "execution_count": 1,
   "metadata": {},
   "outputs": [],
   "source": [
    "import requests\n",
    "from bs4 import BeautifulSoup # pip install beautifulsoup4\n",
    "import pandas as pd\n",
    "import requests\n",
    "import re"
   ]
  },
  {
   "cell_type": "code",
   "execution_count": null,
   "metadata": {},
   "outputs": [],
   "source": [
    "def scrape_glovo_restaurants(url_template, pages):\n",
    "    all_data = []\n",
    "\n",
    "    for page_num in range(1, pages+1):\n",
    "        url = url_template.format(page_num)\n",
    "        html = requests.get(url)\n",
    "        soup = BeautifulSoup(html.content, \"html.parser\")\n",
    "# First we get the name of the restaurant\n",
    "        tags_name = soup.find_all('h3', attrs = {\"class\":\"card-title\"})\n",
    "        names = [i.getText().strip() for i in tags_name]\n",
    "# Then the type of cuisine the restaurant serves, this can be more than 1 style\n",
    "        cuisine_style = soup.find_all('div', attrs = {\"class\":\"store-filter-container\"})\n",
    "        cuisine_style = [i.getText().replace(\"\\n\", \"\").strip().split('                      ') for i in cuisine_style]\n",
    "# Then the rating (from 0-100%, 100% being the highest rating)\n",
    "        rating = soup.find_all('span', attrs = {\"class\":\"store-card-rating-info__label\"})\n",
    "        rating = [i.getText().strip() for i in rating]\n",
    "# Amount of reviews, 500+ being the highest amount\n",
    "        number_reviews = soup.find_all('span', attrs = {\"class\":\"store-card-rating-info__label--secondary\"})\n",
    "        number_reviews = [re.search(r'\\((.*?)\\)', i.getText().strip()).group(1) for i in number_reviews]\n",
    "\n",
    "# Adding all information to a dataframe\n",
    "        for name, style, rating, num_reviews in zip(names, cuisine_style, rating, number_reviews):\n",
    "            data = {\n",
    "                'Name': name,\n",
    "                'Cuisine Style': style,\n",
    "                'Rating Glovo': rating,\n",
    "                'Number of Reviews': num_reviews\n",
    "            }\n",
    "            all_data.append(data)\n",
    "\n",
    "    df = pd.DataFrame(all_data)\n",
    "    return df\n"
   ]
  },
  {
   "cell_type": "code",
   "execution_count": null,
   "metadata": {},
   "outputs": [],
   "source": [
    "<a href=\"/Restaurant_Review-g187497-d12702677-Reviews-La_Gastronomica_Burgers-Barcelona_Catalonia.html\" class=\"Lwqic Cj b\" target=\"_blank\">1. La Gastronomica Burgers</a>"
   ]
  },
  {
   "cell_type": "code",
   "execution_count": 2,
   "metadata": {},
   "outputs": [],
   "source": [
    "\n",
    "url = ('https://www.tripadvisor.com/RestaurantSearch-g187497-oa0-Barcelona_Catalonia.html#EATERY_LIST_CONTENTS')\n",
    "html = requests.get(url)\n",
    "soup = BeautifulSoup(html.content, \"html.parser\")\n",
    "\n",
    "rating = soup.find_all('svg', attrs = {\"class\":\"UctUV d H0\"})\n",
    "print(rating)\n",
    "\n",
    "#????"
   ]
  },
  {
   "cell_type": "code",
   "execution_count": 2,
   "metadata": {},
   "outputs": [],
   "source": [
    "url = ('https://www.tripadvisor.com/RestaurantSearch-g187497-oa0-Barcelona_Catalonia.html#EATERY_LIST_CONTENTS')\n",
    "html = requests.get(url)\n",
    "soup = BeautifulSoup(html.content, \"html.parser\")\n",
    "tags_name2 = soup.find_all('a', attrs = {\"class\":\"title\"})\n",
    "names2 = [i.getText().strip() for i in tags_name2]\n",
    "print(names2)\n",
    "\n",
    "#????"
   ]
  }
 ],
 "metadata": {
  "kernelspec": {
   "display_name": "ironhack",
   "language": "python",
   "name": "ironhack"
  },
  "language_info": {
   "codemirror_mode": {
    "name": "ipython",
    "version": 3
   },
   "file_extension": ".py",
   "mimetype": "text/x-python",
   "name": "python",
   "nbconvert_exporter": "python",
   "pygments_lexer": "ipython3",
   "version": "3.10.8"
  },
  "orig_nbformat": 4,
  "vscode": {
   "interpreter": {
    "hash": "ba53fa0f01fee7477b45d34d3bdb26abc7dd71b1ee8eef640c8ce72fcf0af8f7"
   }
  }
 },
 "nbformat": 4,
 "nbformat_minor": 2
}
