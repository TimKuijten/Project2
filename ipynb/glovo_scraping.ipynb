{
 "cells": [
  {
   "cell_type": "code",
   "execution_count": 1,
   "metadata": {},
   "outputs": [],
   "source": [
    "import requests\n",
    "from bs4 import BeautifulSoup # pip install beautifulsoup4\n",
    "import pandas as pd\n",
    "import requests\n",
    "import re"
   ]
  },
  {
   "cell_type": "code",
   "execution_count": 51,
   "metadata": {},
   "outputs": [
    {
     "data": {
      "text/plain": [
       "['(79)',\n",
       " '(282)',\n",
       " '(500+)',\n",
       " '(23)',\n",
       " '(500+)',\n",
       " '(41)',\n",
       " '(42)',\n",
       " '(54)',\n",
       " '(197)',\n",
       " '(41)',\n",
       " '(89)',\n",
       " '(18)',\n",
       " '(500+)',\n",
       " '(11)',\n",
       " '(59)',\n",
       " '(366)',\n",
       " '(35)',\n",
       " '(408)',\n",
       " '(115)',\n",
       " '(256)',\n",
       " '(27)',\n",
       " '(147)',\n",
       " '(129)',\n",
       " '(71)',\n",
       " '(83)',\n",
       " '(470)',\n",
       " '(106)',\n",
       " '(118)',\n",
       " '(500+)',\n",
       " '(500+)',\n",
       " '(500+)',\n",
       " '(93)',\n",
       " '(184)',\n",
       " '(500+)',\n",
       " '(216)',\n",
       " '(500+)',\n",
       " '(500+)',\n",
       " '(500+)',\n",
       " '(500+)',\n",
       " '(132)',\n",
       " '(24)',\n",
       " '(500+)',\n",
       " '(248)',\n",
       " '(420)',\n",
       " '(177)']"
      ]
     },
     "execution_count": 51,
     "metadata": {},
     "output_type": "execute_result"
    }
   ],
   "source": [
    "url = \"https://glovoapp.com/es/en/barcelona/restaurants_1/sushi_34702/\"\n",
    "\n",
    "    # What we want is:\n",
    "        # Name \n",
    "        # Cuisine style\n",
    "        # Rating\n",
    "        # Number of reviews\n",
    "\n",
    "html = requests.get(url)\n",
    "soup = BeautifulSoup(html.content, \"html.parser\")\n",
    "#tags_name = soup.find_all(\"div\", attrs = {\"class\":\"name_product_box\"})\n",
    "# <span class=\"marca-product-box\">ADIDAS </span>\n",
    "tags_name = soup.find_all('h3', attrs = {\"class\":\"card-title\"})\n",
    "#<h3 data-v-4de1e372=\"\" data-test-id=\"store-card-title\" class=\"card-title\">Motomaki &amp; Sushi</h3>\n",
    "names = [i.getText().strip() for i in tags_name]\n",
    "\n",
    "cuisine_style = soup.find_all('div', attrs = {\"class\":\"store-filter-container\"})\n",
    "cuisine_style = [i.getText().replace(\"\\n\", \"\").strip().split('                      ') for i in cuisine_style]\n",
    "\n",
    "rating_glovo = soup.find_all('span', attrs = {\"class\":\"store-card-rating-info__label\"})\n",
    "rating_glovo = [i.getText().strip() for i in rating_glovo]\n",
    "\n",
    "number_reviews = soup.find_all('span', attrs = {\"class\":\"store-card-rating-info__label--secondary\"})\n",
    "number_reviews = [i.getText().strip() for i in number_reviews]\n",
    "number_reviews\n",
    "\n"
   ]
  }
 ],
 "metadata": {
  "kernelspec": {
   "display_name": "Python 3",
   "language": "python",
   "name": "python3"
  },
  "language_info": {
   "codemirror_mode": {
    "name": "ipython",
    "version": 3
   },
   "file_extension": ".py",
   "mimetype": "text/x-python",
   "name": "python",
   "nbconvert_exporter": "python",
   "pygments_lexer": "ipython3",
   "version": "3.9.13"
  },
  "orig_nbformat": 4,
  "vscode": {
   "interpreter": {
    "hash": "1a3554ba2cf46a4d719dcfc116ef2a0b03b29c2c9612e04458bae2da0bb9b61d"
   }
  }
 },
 "nbformat": 4,
 "nbformat_minor": 2
}
